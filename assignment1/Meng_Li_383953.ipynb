{
 "cells": [
  {
   "cell_type": "markdown",
   "metadata": {},
   "source": [
    "# IDS Assignment 1\n",
    "Document your results as well as the way you obtained them in this jupyter notebook. A seperate report (pdf, word etc.) is _not_ required. However, it is necessary that you provide the python code leading to your results as well as textual answers to the assignment questions in this notebook. \n",
    "\n",
    "Do not change the general structure of this notebook, but you can add further markdown or code cells to explain your solutions if necessary. In the end, submit this file in moodle."
   ]
  },
  {
   "cell_type": "markdown",
   "metadata": {},
   "source": [
    "## Get to know the data"
   ]
  },
  {
   "cell_type": "markdown",
   "metadata": {},
   "source": [
    "### Question 1 (Indicating type): \n",
    "1. Identify precise type of each attribute. Note that the right answers are like: “numerical-continuous-ratio”, just Numerical or Categorical is not enough."
   ]
  },
  {
   "cell_type": "markdown",
   "metadata": {},
   "source": [
    "Explanation:\n",
    "1.age:numerical-continuous-interval data\n",
    "2.workclass: categorical-nominal\n",
    "3.education:categorical-ordinal\n",
    "4.education-num:numerical-continuous-interval data\n",
    "5.marital-status:categorical-nominal\n",
    "6.occupation:categorical-nominal\n",
    "7.relationship:categorical-nominal\n",
    "8.race:categorical-nominal\n",
    "9.sex:cateforical-nominal\n",
    "10.hours-per-week:continuous-interval data\n",
    "11.native-country:categorical-nominal"
   ]
  },
  {
   "cell_type": "markdown",
   "metadata": {},
   "source": [
    "### Question 2 (Removing outliers):\n",
    "2. (a) Explore into \"age\" and \"hours-per-week\" and identify outliers (Boxplot returns whiskers). After identifying outliers, remove them (do it just once on the data set). Now you should have two data sets (cleaned and original)."
   ]
  },
  {
   "cell_type": "code",
   "execution_count": 1,
   "metadata": {},
   "outputs": [],
   "source": [
    "# your code\n",
    "import seaborn as sns\n",
    "import numpy as np\n",
    "import matplotlib.pyplot as plt\n",
    "import pandas as pd\n",
    "\n",
    "sns.set()\n",
    "data1 = pd.read_csv('adult.data-3.csv')\n",
    "\n",
    "plt.figure(figsize = (10,10))\n",
    "plt.boxplot(data1['age'])\n",
    "\n",
    "data1['age'].describe()\n",
    "\n",
    "lower_quart1 = 30.0\n",
    "higher_quart1 = 49.0\n",
    "IQR1 = higher_quart1 - lower_quart1\n",
    "upwhisker1 = higher_quart1 + 1.5*IQR1\n",
    "lwwhisker1 = lower_quart1 - 1.5*IQR1\n",
    "\n",
    "data1_clean1 = data1[(data1.age<upwhisker1) &  (data1.age > lwwhisker1) ]\n"
   ]
  },
  {
   "cell_type": "code",
   "execution_count": 2,
   "metadata": {},
   "outputs": [
    {
     "data": {
      "text/html": [
       "<div>\n",
       "<style scoped>\n",
       "    .dataframe tbody tr th:only-of-type {\n",
       "        vertical-align: middle;\n",
       "    }\n",
       "\n",
       "    .dataframe tbody tr th {\n",
       "        vertical-align: top;\n",
       "    }\n",
       "\n",
       "    .dataframe thead th {\n",
       "        text-align: right;\n",
       "    }\n",
       "</style>\n",
       "<table border=\"1\" class=\"dataframe\">\n",
       "  <thead>\n",
       "    <tr style=\"text-align: right;\">\n",
       "      <th></th>\n",
       "      <th>age</th>\n",
       "      <th>education-num</th>\n",
       "      <th>hours-per-week</th>\n",
       "    </tr>\n",
       "  </thead>\n",
       "  <tbody>\n",
       "    <tr>\n",
       "      <th>count</th>\n",
       "      <td>14304.000000</td>\n",
       "      <td>14304.000000</td>\n",
       "      <td>14304.000000</td>\n",
       "    </tr>\n",
       "    <tr>\n",
       "      <th>mean</th>\n",
       "      <td>40.031040</td>\n",
       "      <td>10.491401</td>\n",
       "      <td>41.957075</td>\n",
       "    </tr>\n",
       "    <tr>\n",
       "      <th>std</th>\n",
       "      <td>12.026103</td>\n",
       "      <td>2.569198</td>\n",
       "      <td>5.413617</td>\n",
       "    </tr>\n",
       "    <tr>\n",
       "      <th>min</th>\n",
       "      <td>17.000000</td>\n",
       "      <td>1.000000</td>\n",
       "      <td>29.000000</td>\n",
       "    </tr>\n",
       "    <tr>\n",
       "      <th>25%</th>\n",
       "      <td>31.000000</td>\n",
       "      <td>9.000000</td>\n",
       "      <td>40.000000</td>\n",
       "    </tr>\n",
       "    <tr>\n",
       "      <th>50%</th>\n",
       "      <td>39.000000</td>\n",
       "      <td>10.000000</td>\n",
       "      <td>40.000000</td>\n",
       "    </tr>\n",
       "    <tr>\n",
       "      <th>75%</th>\n",
       "      <td>48.250000</td>\n",
       "      <td>13.000000</td>\n",
       "      <td>45.000000</td>\n",
       "    </tr>\n",
       "    <tr>\n",
       "      <th>max</th>\n",
       "      <td>77.000000</td>\n",
       "      <td>16.000000</td>\n",
       "      <td>59.000000</td>\n",
       "    </tr>\n",
       "  </tbody>\n",
       "</table>\n",
       "</div>"
      ],
      "text/plain": [
       "                age  education-num  hours-per-week\n",
       "count  14304.000000   14304.000000    14304.000000\n",
       "mean      40.031040      10.491401       41.957075\n",
       "std       12.026103       2.569198        5.413617\n",
       "min       17.000000       1.000000       29.000000\n",
       "25%       31.000000       9.000000       40.000000\n",
       "50%       39.000000      10.000000       40.000000\n",
       "75%       48.250000      13.000000       45.000000\n",
       "max       77.000000      16.000000       59.000000"
      ]
     },
     "execution_count": 2,
     "metadata": {},
     "output_type": "execute_result"
    },
    {
     "data": {
      "image/png": "[encoded data removed]",
      "text/plain": [
       "<Figure size 720x720 with 1 Axes>"
      ]
     },
     "metadata": {
      "needs_background": "light"
     },
     "output_type": "display_data"
    }
   ],
   "source": [
    "\n",
    "plt.figure(figsize = (10,10))\n",
    "plt.boxplot(data1['hours-per-week'])\n",
    "\n",
    "data1['hours-per-week'].describe()\n",
    "\n",
    "lower_quart2 = 40.0\n",
    "higher_quart2 = 48.0\n",
    "IQR2 = higher_quart2 - lower_quart2\n",
    "upwhisker2 = higher_quart2 + 1.5*IQR2\n",
    "lwwhisker2 = lower_quart2 - 1.5*IQR2\n",
    "\n",
    "data1_clean2 = data1[(data1['hours-per-week']<upwhisker2) &  (data1['hours-per-week'] > lwwhisker2) ]\n",
    "\n",
    "#cleaned data\n",
    "data_clean = data1[(data1['hours-per-week']<upwhisker2) &  (data1['hours-per-week'] > lwwhisker2) & (data1.age<upwhisker1) &  (data1.age > lwwhisker1) ]\n",
    "data_clean.describe()"
   ]
  },
  {
   "cell_type": "markdown",
   "metadata": {},
   "source": [
    "2. (b) Draw Boxplot of the cleaned data set for \"hours-per-week\". Is there still any outlier? If so, explain why?"
   ]
  },
  {
   "cell_type": "code",
   "execution_count": 3,
   "metadata": {},
   "outputs": [
    {
     "data": {
      "text/plain": [
       "{'whiskers': [<matplotlib.lines.Line2D at 0x1a1868a080>,\n",
       "  <matplotlib.lines.Line2D at 0x1a186b15c0>],\n",
       " 'caps': [<matplotlib.lines.Line2D at 0x1a186b1dd8>,\n",
       "  <matplotlib.lines.Line2D at 0x1a186b1940>],\n",
       " 'boxes': [<matplotlib.lines.Line2D at 0x1a1868aba8>],\n",
       " 'medians': [<matplotlib.lines.Line2D at 0x1a1877e2e8>],\n",
       " 'fliers': [<matplotlib.lines.Line2D at 0x1a1877e748>],\n",
       " 'means': []}"
      ]
     },
     "execution_count": 3,
     "metadata": {},
     "output_type": "execute_result"
    },
    {
     "data": {
      "image/png": "[encoded data removed]",
      "text/plain": [
       "<Figure size 720x720 with 1 Axes>"
      ]
     },
     "metadata": {
      "needs_background": "light"
     },
     "output_type": "display_data"
    }
   ],
   "source": [
    "# your code\n",
    "plt.figure(figsize=(10,10))\n",
    "plt.boxplot(data_clean['hours-per-week'])"
   ]
  },
  {
   "cell_type": "markdown",
   "metadata": {},
   "source": [
    "Explanation:\n",
    "there are still some outliers, because if we move the outliers from previous database, then for the new database, its whiskers will be newly calculated according to its new data, so there are still will be some outliers."
   ]
  },
  {
   "cell_type": "markdown",
   "metadata": {},
   "source": [
    "### Question 3 (Basic visualization):\n",
    "3. (a) Visualize mean and median of \"age\", and \"hours-per-week\" per \"sex\" by separate plots for the cleaned and the original data sets (there should be 8 plots, 4 plots for the original data set and 4 plots for the cleaned data set). "
   ]
  },
  {
   "cell_type": "code",
   "execution_count": 4,
   "metadata": {},
   "outputs": [
    {
     "name": "stderr",
     "output_type": "stream",
     "text": [
      "/anaconda3/lib/python3.7/site-packages/scipy/stats/stats.py:1713: FutureWarning: Using a non-tuple sequence for multidimensional indexing is deprecated; use `arr[tuple(seq)]` instead of `arr[seq]`. In the future this will be interpreted as an array index, `arr[np.array(seq)]`, which will result either in an error or a different result.\n",
      "  return np.add.reduce(sorted[indexer] * weights, axis=axis) / sumval\n"
     ]
    },
    {
     "data": {
      "image/png": "[encoded data removed]",
      "text/plain": [
       "<Figure size 360x360 with 1 Axes>"
      ]
     },
     "metadata": {
      "needs_background": "light"
     },
     "output_type": "display_data"
    },
    {
     "data": {
      "image/png": "[encoded data removed]",
      "text/plain": [
       "<Figure size 360x360 with 1 Axes>"
      ]
     },
     "metadata": {
      "needs_background": "light"
     },
     "output_type": "display_data"
    },
    {
     "data": {
      "image/png": "[encoded data removed]",
      "text/plain": [
       "<Figure size 360x360 with 1 Axes>"
      ]
     },
     "metadata": {
      "needs_background": "light"
     },
     "output_type": "display_data"
    },
    {
     "data": {
      "image/png": "[encoded data removed]",
      "text/plain": [
       "<Figure size 360x360 with 1 Axes>"
      ]
     },
     "metadata": {
      "needs_background": "light"
     },
     "output_type": "display_data"
    }
   ],
   "source": [
    "# your code\n",
    "#for original data\n",
    "plt.figure(figsize = (5,5))\n",
    "age1_ori = sns.barplot(x = 'sex', y = 'age', data = data1, estimator=np.mean).set_title('estimator_mean')\n",
    "plt.figure(figsize = (5,5))\n",
    "age2_ori = sns.barplot(x = 'sex', y = 'age', data = data1, estimator=np.median).set_title('estimator_median')\n",
    "plt.figure(figsize = (5,5))\n",
    "hours1_ori = sns.barplot(x = 'sex', y = 'hours-per-week', data = data1, estimator=np.mean).set_title('estimator_mean')\n",
    "plt.figure(figsize = (5,5))\n",
    "hours2_ori = sns.barplot(x = 'sex', y = 'hours-per-week', data = data1, estimator=np.mean).set_title('estimator_median')\n",
    "\n"
   ]
  },
  {
   "cell_type": "code",
   "execution_count": 5,
   "metadata": {},
   "outputs": [
    {
     "data": {
      "image/png": "[encoded data removed]",
      "text/plain": [
       "<Figure size 360x360 with 1 Axes>"
      ]
     },
     "metadata": {
      "needs_background": "light"
     },
     "output_type": "display_data"
    },
    {
     "data": {
      "image/png": "[encoded data removed]",
      "text/plain": [
       "<Figure size 360x360 with 1 Axes>"
      ]
     },
     "metadata": {
      "needs_background": "light"
     },
     "output_type": "display_data"
    },
    {
     "data": {
      "image/png": "[encoded data removed]",
      "text/plain": [
       "<Figure size 360x360 with 1 Axes>"
      ]
     },
     "metadata": {
      "needs_background": "light"
     },
     "output_type": "display_data"
    },
    {
     "data": {
      "image/png": "[encoded data removed]",
      "text/plain": [
       "<Figure size 360x360 with 1 Axes>"
      ]
     },
     "metadata": {
      "needs_background": "light"
     },
     "output_type": "display_data"
    }
   ],
   "source": [
    "#for cleaned data\n",
    "\n",
    "plt.figure(figsize = (5,5))\n",
    "age1_ori = sns.barplot(x = 'sex', y = 'age', data = data_clean, estimator=np.mean).set_title('estimator_mean')\n",
    "plt.figure(figsize = (5,5))\n",
    "age2_ori = sns.barplot(x = 'sex', y = 'age', data = data_clean, estimator=np.median).set_title('estimator_median')\n",
    "plt.figure(figsize = (5,5))\n",
    "hours1_ori = sns.barplot(x = 'sex', y = 'hours-per-week', data = data_clean, estimator=np.mean).set_title('estimator_mean')\n",
    "plt.figure(figsize = (5,5))\n",
    "hours2_ori = sns.barplot(x = 'sex', y = 'hours-per-week', data = data_clean, estimator=np.mean).set_title('estimator_median')"
   ]
  },
  {
   "cell_type": "markdown",
   "metadata": {},
   "source": [
    "3. (b) Explain how mean and median of \"age\" per \"sex\" change when you remove the outliers."
   ]
  },
  {
   "cell_type": "markdown",
   "metadata": {},
   "source": [
    "Explanation: \n",
    "the median of the age for female increased,the other didn't change much"
   ]
  },
  {
   "cell_type": "markdown",
   "metadata": {},
   "source": [
    "### Question 4 (Distribution):\n",
    "4. (a) Explore into distribution of \"age\" in the original data set. Does it have any well-known distribution (normal, uniform, skewed, ...)? If so, what are the main statistical features (mean, median, and mode) of this specific type of distribution."
   ]
  },
  {
   "cell_type": "code",
   "execution_count": 6,
   "metadata": {},
   "outputs": [
    {
     "name": "stdout",
     "output_type": "stream",
     "text": [
      "mean_age = 40.10296508043271\n",
      "median_age =  39.0\n",
      "mode_age = 37\n"
     ]
    },
    {
     "data": {
      "image/png": "[encoded data removed]",
      "text/plain": [
       "<Figure size 432x288 with 1 Axes>"
      ]
     },
     "metadata": {
      "needs_background": "light"
     },
     "output_type": "display_data"
    }
   ],
   "source": [
    "# your code\n",
    "import statistics\n",
    "sns.distplot(data1['age'])\n",
    "mean_age = np.mean(data1['age'])\n",
    "median_age = np.median(data1['age'])\n",
    "mode_age = statistics.mode(data1['age'])\n",
    "print('mean_age =',mean_age)\n",
    "print('median_age = ',median_age)\n",
    "print('mode_age =' ,mode_age)\n",
    "\n"
   ]
  },
  {
   "cell_type": "markdown",
   "metadata": {},
   "source": [
    "Explanation:\n",
    "the distribution is skewed"
   ]
  },
  {
   "cell_type": "markdown",
   "metadata": {},
   "source": [
    "4. (b) Explore into distribution of \"age\" and \"hours-per-week\" together. Explain how the data is distributed with respect to these two attributes in the original data sets (using Jointplot)?\n"
   ]
  },
  {
   "cell_type": "code",
   "execution_count": 7,
   "metadata": {},
   "outputs": [
    {
     "data": {
      "text/plain": [
       "<seaborn.axisgrid.JointGrid at 0x1a19c78be0>"
      ]
     },
     "execution_count": 7,
     "metadata": {},
     "output_type": "execute_result"
    },
    {
     "data": {
      "image/png": "[encoded data removed]",
      "text/plain": [
       "<Figure size 432x432 with 3 Axes>"
      ]
     },
     "metadata": {
      "needs_background": "light"
     },
     "output_type": "display_data"
    }
   ],
   "source": [
    "# your code\n",
    "sns.jointplot(x = 'age', y = 'hours-per-week', data = data1, kind='scatter')"
   ]
  },
  {
   "cell_type": "markdown",
   "metadata": {},
   "source": [
    "Explanation:these two data are independently distributed,"
   ]
  },
  {
   "cell_type": "markdown",
   "metadata": {},
   "source": [
    "## Building models to perform predictions"
   ]
  },
  {
   "cell_type": "markdown",
   "metadata": {},
   "source": [
    "### Question 5 (Decision Tree):\n",
    "5. (a) Consider all the categorical attributes except label as descriptive features and label (income) as target feature. Make two decision trees (one based on Entropy and another based on Gini)."
   ]
  },
  {
   "cell_type": "code",
   "execution_count": 8,
   "metadata": {},
   "outputs": [
    {
     "ename": "ModuleNotFoundError",
     "evalue": "No module named 'graphviz'",
     "output_type": "error",
     "traceback": [
      "\u001b[0;31m---------------------------------------------------------------------------\u001b[0m",
      "\u001b[0;31mModuleNotFoundError\u001b[0m                       Traceback (most recent call last)",
      "\u001b[0;32m<ipython-input-8-03f4a53686db>\u001b[0m in \u001b[0;36m<module>\u001b[0;34m\u001b[0m\n\u001b[1;32m      3\u001b[0m \u001b[0;32mfrom\u001b[0m \u001b[0msubprocess\u001b[0m \u001b[0;32mimport\u001b[0m \u001b[0mcheck_output\u001b[0m\u001b[0;34m\u001b[0m\u001b[0;34m\u001b[0m\u001b[0m\n\u001b[1;32m      4\u001b[0m \u001b[0;32mimport\u001b[0m \u001b[0mpandas\u001b[0m \u001b[0;32mas\u001b[0m \u001b[0msns\u001b[0m\u001b[0;34m\u001b[0m\u001b[0;34m\u001b[0m\u001b[0m\n\u001b[0;32m----> 5\u001b[0;31m \u001b[0;32mfrom\u001b[0m \u001b[0mDecisionTree\u001b[0m \u001b[0;32mimport\u001b[0m \u001b[0mDecisionTree\u001b[0m\u001b[0;34m\u001b[0m\u001b[0;34m\u001b[0m\u001b[0m\n\u001b[0m\u001b[1;32m      6\u001b[0m \u001b[0;34m\u001b[0m\u001b[0m\n\u001b[1;32m      7\u001b[0m \u001b[0;31m# importing data\u001b[0m\u001b[0;34m\u001b[0m\u001b[0;34m\u001b[0m\u001b[0;34m\u001b[0m\u001b[0m\n",
      "\u001b[0;32m~/Desktop/dritte semester/data science/assignment_1/DecisionTree.py\u001b[0m in \u001b[0;36m<module>\u001b[0;34m\u001b[0m\n\u001b[1;32m      1\u001b[0m \u001b[0;32mimport\u001b[0m \u001b[0mmath\u001b[0m\u001b[0;34m\u001b[0m\u001b[0;34m\u001b[0m\u001b[0m\n\u001b[1;32m      2\u001b[0m \u001b[0;32mfrom\u001b[0m \u001b[0mcollections\u001b[0m \u001b[0;32mimport\u001b[0m \u001b[0mdeque\u001b[0m\u001b[0;34m\u001b[0m\u001b[0;34m\u001b[0m\u001b[0m\n\u001b[0;32m----> 3\u001b[0;31m \u001b[0;32mfrom\u001b[0m \u001b[0mgraphviz\u001b[0m \u001b[0;32mimport\u001b[0m \u001b[0mDigraph\u001b[0m\u001b[0;34m\u001b[0m\u001b[0;34m\u001b[0m\u001b[0m\n\u001b[0m\u001b[1;32m      4\u001b[0m \u001b[0;34m\u001b[0m\u001b[0m\n\u001b[1;32m      5\u001b[0m \u001b[0;32mclass\u001b[0m \u001b[0mNode\u001b[0m\u001b[0;34m(\u001b[0m\u001b[0mobject\u001b[0m\u001b[0;34m)\u001b[0m\u001b[0;34m:\u001b[0m\u001b[0;34m\u001b[0m\u001b[0;34m\u001b[0m\u001b[0m\n",
      "\u001b[0;31mModuleNotFoundError\u001b[0m: No module named 'graphviz'"
     ]
    }
   ],
   "source": [
    "# your code\n",
    "from sklearn import tree\n",
    "from subprocess import check_output\n",
    "import pandas as sns\n",
    "from DecisionTree import DecisionTree\n",
    "\n",
    "# importing data\n",
    "data = pd.read_csv('adult1.csv')\n",
    "data = data.drop(['hours-per-week', 'age', 'education-num'], axis = 1)\n",
    "columns = data.columns\n",
    "des_feature = columns[:-1]\n",
    "label = columns[-1]\n",
    "\n",
    "for column in columns:\n",
    "    data[column] = data[column].astype(str)\n",
    "    \n",
    "data_des = data[des_feature].values\n",
    "data_label = data[label].values\n",
    "\n",
    "\n",
    "\n",
    "#using Entropy\n",
    "decisionTree = DecisionTree(data_des.tolist(), des_feature.tolist(), data_label.tolist(), \"entropy\")\n",
    "\n",
    "decisionTree.id3(0,0)\n",
    "decisionTree.print_visualTree()\n",
    "\n",
    "print(\"System entropy: \", format(decisionTree.entropy))\n",
    "print(\"System gini: \", format(decisionTree.gini))\n",
    "\n",
    "\n",
    "\n",
    "\n",
    "\n",
    "\n",
    "\n"
   ]
  },
  {
   "cell_type": "code",
   "execution_count": 10,
   "metadata": {},
   "outputs": [
    {
     "name": "stdout",
     "output_type": "stream",
     "text": [
      "System entropy:  None\n",
      "System gini:  0.49267787898095206\n"
     ]
    }
   ],
   "source": [
    "#using Gini\n",
    "decisionTree = DecisionTree(data_des.tolist(), des_feature.tolist(), data_label.tolist(), \"gini\")\n",
    "\n",
    "decisionTree.id3(0,0)\n",
    "\n",
    "decisionTree.print_visualTree()\n",
    "\n",
    "\n",
    "print(\"System entropy: \", format(decisionTree.entropy))\n",
    "print(\"System gini: \", format(decisionTree.gini))"
   ]
  },
  {
   "cell_type": "markdown",
   "metadata": {},
   "source": [
    "5. (b) What are the best attributes (based on Gini and Entropy) for splitting the trees in the third round of ID3?   "
   ]
  },
  {
   "cell_type": "markdown",
   "metadata": {},
   "source": [
    "Explanation: the occupation"
   ]
  },
  {
   "cell_type": "markdown",
   "metadata": {},
   "source": [
    "5. (c) Prune the tree which is made based on Entropy by 7000 as minimum number of samples. Identify which value of the first node/attribute is chosen to be split in the second round of ID3 and explain why?"
   ]
  },
  {
   "cell_type": "code",
   "execution_count": 11,
   "metadata": {},
   "outputs": [
    {
     "name": "stdout",
     "output_type": "stream",
     "text": [
      "System entropy:  0.9894104774720454\n",
      "System gini:  None\n"
     ]
    }
   ],
   "source": [
    "# your code\n",
    "#prune the decisiontree which is using Entropy\n",
    "decisionTree = DecisionTree(data_des.tolist(), des_feature.tolist(), data_label.tolist(), \"entropy\")\n",
    "\n",
    "decisionTree.id3(0,7000)\n",
    "decisionTree.print_visualTree()\n",
    "\n",
    "print(\"System entropy: \", format(decisionTree.entropy))\n",
    "print(\"System gini: \", format(decisionTree.gini))\n"
   ]
  },
  {
   "cell_type": "markdown",
   "metadata": {},
   "source": [
    "Explanation: the relationship, because when choosing Husband to be split the decision tree will get the biggest information gain."
   ]
  },
  {
   "cell_type": "markdown",
   "metadata": {},
   "source": [
    "### Question 6 (Regression):\n",
    "\n",
    "6. (a) Create two sets of independent variables (1) and (2)"
   ]
  },
  {
   "cell_type": "code",
   "execution_count": 9,
   "metadata": {},
   "outputs": [],
   "source": [
    "# your code\n",
    "target = data1['label']\n",
    "var_1 = data1[['age', 'marital-status','sex']]\n",
    "var_2 = data1[['workclass', 'education', 'hours-per-week']]\n",
    "data_ori = data1.drop('label', axis = 1) \n"
   ]
  },
  {
   "cell_type": "markdown",
   "metadata": {},
   "source": [
    "6. (b) Which attributes are suitable as an input for the logistic regression and which need to be modified first? Why? "
   ]
  },
  {
   "cell_type": "markdown",
   "metadata": {},
   "source": [
    "Explanation:\n",
    "'age', 'hours-per-week'(numerical) are suitable inputs for the logistic regression, and the rest of the categorical features should be modified first. Because the regression method use numerical inputs values to compute out a target value, so the numerical features('age', 'hours-per-week') are suitable. And the categorical features need to be first  modified to numerical features."
   ]
  },
  {
   "cell_type": "code",
   "execution_count": 10,
   "metadata": {},
   "outputs": [],
   "source": [
    "# your modification\n",
    "import pandas as pd\n",
    "\n",
    "var_1_mdf = pd.get_dummies(var_1)\n",
    "var_2_mdf = pd.get_dummies(var_2)\n",
    "var_3_mdf = pd.get_dummies(data_ori)\n"
   ]
  },
  {
   "cell_type": "markdown",
   "metadata": {},
   "source": [
    "6. (c) Train three logistic regression classifiers based on the two created data sets as well as the initial data set:"
   ]
  },
  {
   "cell_type": "markdown",
   "metadata": {},
   "source": [
    "#document:\n",
    "    I used the fuction pandas.get_dummies() to make the categorical features into numerical features.\n",
    "    I used the function sklearn.linear_model.LogisticRegression to train a logisticregression classifier, in this fucntion paremeters multi_class = 'ovr' is used to transform the label into a binary number.\n",
    "    I used function classifier.fit() to load the features and label into the classifier.\n",
    "    I used funciton classifier.predict() to generate a label prediction based on the training data."
   ]
  },
  {
   "cell_type": "code",
   "execution_count": 11,
   "metadata": {},
   "outputs": [
    {
     "name": "stdout",
     "output_type": "stream",
     "text": [
      "the number of misclassified samples in model 1 is:\n",
      " 4466\n",
      "the number of misclassified samples in model 2 is:\n",
      " 5314\n",
      "the number of misclassified samples in model 3 is:\n",
      " 3424\n"
     ]
    }
   ],
   "source": [
    "# your code\n",
    "from sklearn.linear_model import LogisticRegression\n",
    "\n",
    "#first classifier with(1)\n",
    "X1 = var_1_mdf\n",
    "Y1 = target\n",
    "\n",
    "classifier1 = LogisticRegression(solver = 'liblinear', multi_class = 'ovr')\n",
    "model1 = classifier1.fit(X1,Y1.ravel())\n",
    "y_pred1 = classifier1.predict(X1)\n",
    "\n",
    "\n",
    "\n",
    "#second classififer with (2)\n",
    "X2 = var_2_mdf\n",
    "Y2 = target\n",
    "\n",
    "classifier2 = LogisticRegression(solver = 'liblinear',multi_class ='ovr')\n",
    "model2 = classifier2.fit(X2,Y2.ravel())\n",
    "y_pred2 = classifier2.predict(X2)\n",
    "\n",
    "\n",
    "#third classifier with (3)\n",
    "X3 = var_3_mdf\n",
    "Y3 = target\n",
    "\n",
    "classifier3 = LogisticRegression(solver = 'liblinear',multi_class ='ovr')\n",
    "model3 = classifier3.fit(X3,Y3.ravel())\n",
    "y_pred3 = classifier3.predict(X3)\n",
    "\n",
    "#compare three models \n",
    "cri1 = Y1 == y_pred1\n",
    "cri2 = Y2 == y_pred2\n",
    "cri3 = Y3 == y_pred3\n",
    "\n",
    "#compute the misclassified samples in each model\n",
    "mis1 = [item for item in cri1 if item == False]\n",
    "mis2 = [item for item in cri2 if item == False]\n",
    "mis3 = [item for item in cri3 if item == False]\n",
    "print('the number of misclassified samples in model 1 is:\\n', len(mis1))\n",
    "print('the number of misclassified samples in model 2 is:\\n', len(mis2))\n",
    "print('the number of misclassified samples in model 3 is:\\n', len(mis3))\n",
    "\n"
   ]
  },
  {
   "cell_type": "markdown",
   "metadata": {},
   "source": [
    "6. (d) Interpret the three resulting models and compare them. Which model do you recommend and why?"
   ]
  },
  {
   "cell_type": "markdown",
   "metadata": {},
   "source": [
    "Explanation: \n",
    "these three models are using the training data to build linear classifiers, then using the features of samples to make a prediction ( determine which class this sample should be classified.)\n",
    "I would recommend the third model, since it has the smallest number of misclassified samples."
   ]
  },
  {
   "cell_type": "markdown",
   "metadata": {},
   "source": [
    "### Question 7 (Neural Networks)"
   ]
  },
  {
   "cell_type": "markdown",
   "metadata": {},
   "source": [
    "7. (a) What are the inputs of your network?"
   ]
  },
  {
   "cell_type": "markdown",
   "metadata": {},
   "source": [
    "Explanation:\n",
    "the descriptive features of the dataset"
   ]
  },
  {
   "cell_type": "markdown",
   "metadata": {},
   "source": [
    "7. (b) What are the possible number of input pattern for your network (just including categorical attributes)?"
   ]
  },
  {
   "cell_type": "code",
   "execution_count": 15,
   "metadata": {},
   "outputs": [
    {
     "name": "stdout",
     "output_type": "stream",
     "text": [
      "the possible number of input pattern is \n",
      " 101\n"
     ]
    }
   ],
   "source": [
    "#calculate\n",
    "import pandas as pd\n",
    "import numpy as np\n",
    "from sklearn.neural_network import MLPClassifier\n",
    "\n",
    "data = pd.read_csv('adult.data-3.csv')\n",
    "label = data['label']\n",
    "\n",
    "data_categ = data.drop(['age', 'label','hours-per-week','education-num'],axis = 1)\n",
    "x_training = pd.get_dummies(data_categ)\n",
    "input_num_catego = len(x_training.columns)\n",
    "print('the possible number of input pattern is \\n',input_num_catego)"
   ]
  },
  {
   "cell_type": "markdown",
   "metadata": {},
   "source": [
    "Explaination:"
   ]
  },
  {
   "cell_type": "markdown",
   "metadata": {},
   "source": [
    "7. (c.i) First, with default parameters and return the parameters."
   ]
  },
  {
   "cell_type": "code",
   "execution_count": 16,
   "metadata": {},
   "outputs": [
    {
     "name": "stdout",
     "output_type": "stream",
     "text": [
      "[1 0 0 ... 0 0 1]\n",
      "[(104, 100), (100, 1)]\n",
      "[array([[-1.87563947e-02, -1.09528924e-01, -7.62527028e-03, ...,\n",
      "        -8.88565013e-02,  6.97538746e-02,  2.93087751e-02],\n",
      "       [ 2.18079227e-02,  2.05482866e-02,  3.65651896e-05, ...,\n",
      "        -2.44407399e-02, -8.98712295e-02,  1.10615118e-01],\n",
      "       [-1.56686712e-01, -4.01385337e-02, -7.07163363e-05, ...,\n",
      "         1.32076004e-01,  1.70935804e-01,  1.52392709e-01],\n",
      "       ...,\n",
      "       [ 4.85276191e-02,  4.92408169e-02, -2.13674174e-02, ...,\n",
      "        -1.00173659e-01, -1.30137638e-01, -4.63760125e-03],\n",
      "       [ 9.68920549e-02,  2.87647759e-02, -1.89600627e-02, ...,\n",
      "         1.48380049e-01,  1.66671151e-01,  1.59204086e-01],\n",
      "       [ 1.51300599e-01,  9.55098522e-02, -1.51187814e-02, ...,\n",
      "         8.78766912e-02, -7.77985055e-03, -6.80870302e-02]]), array([[ 1.33894236e-01],\n",
      "       [ 2.40326563e-01],\n",
      "       [ 7.93499189e-03],\n",
      "       [-2.46881440e-01],\n",
      "       [ 1.16871890e-01],\n",
      "       [-8.53547457e-02],\n",
      "       [-1.35948733e-01],\n",
      "       [-2.00401218e-01],\n",
      "       [ 2.62806059e-02],\n",
      "       [ 2.03001294e-02],\n",
      "       [ 7.26770766e-02],\n",
      "       [ 3.80455351e-02],\n",
      "       [ 9.87768059e-02],\n",
      "       [ 1.15933062e-01],\n",
      "       [ 8.19054605e-08],\n",
      "       [-1.55465046e-01],\n",
      "       [-3.33923459e-02],\n",
      "       [-1.02387105e-01],\n",
      "       [ 5.19431487e-03],\n",
      "       [-4.25356879e-01],\n",
      "       [-1.29415059e-03],\n",
      "       [-2.59703523e-01],\n",
      "       [ 2.66714585e-11],\n",
      "       [-4.93372460e-02],\n",
      "       [-4.73493381e-01],\n",
      "       [-2.32434958e-01],\n",
      "       [-1.53090229e-01],\n",
      "       [ 8.28919532e-04],\n",
      "       [-1.67294408e-03],\n",
      "       [-3.62450018e-03],\n",
      "       [ 2.98480567e-01],\n",
      "       [ 1.39754748e-03],\n",
      "       [ 2.45776049e-01],\n",
      "       [-4.71378075e-02],\n",
      "       [-8.90582923e-02],\n",
      "       [ 1.21631024e-02],\n",
      "       [ 2.48915731e-01],\n",
      "       [ 2.29409338e-01],\n",
      "       [ 1.51274755e-01],\n",
      "       [ 1.78146632e-02],\n",
      "       [ 3.17408374e-03],\n",
      "       [ 1.41600785e-01],\n",
      "       [-2.23585787e-02],\n",
      "       [-1.06409053e-01],\n",
      "       [ 1.15362288e-01],\n",
      "       [ 2.10298754e-01],\n",
      "       [-2.46004745e-17],\n",
      "       [ 3.36635735e-03],\n",
      "       [-2.13598169e-01],\n",
      "       [ 7.73289935e-02],\n",
      "       [-1.84472918e-01],\n",
      "       [-3.87218195e-01],\n",
      "       [-1.01027611e-02],\n",
      "       [-4.64916540e-01],\n",
      "       [ 2.29794700e-01],\n",
      "       [-1.31766019e-01],\n",
      "       [ 1.60276399e-12],\n",
      "       [-3.07538785e-24],\n",
      "       [-1.58067002e-25],\n",
      "       [ 1.17924284e-04],\n",
      "       [ 1.95735246e-01],\n",
      "       [ 2.78794945e-02],\n",
      "       [ 1.15580183e-01],\n",
      "       [ 1.15938818e-01],\n",
      "       [-2.54826833e-01],\n",
      "       [-5.89943023e-10],\n",
      "       [ 2.84647398e-07],\n",
      "       [-9.60900363e-02],\n",
      "       [ 1.76317987e-01],\n",
      "       [ 2.94038048e-02],\n",
      "       [ 2.31578103e-01],\n",
      "       [ 1.98684899e-01],\n",
      "       [-1.50962808e-01],\n",
      "       [ 1.80858026e-01],\n",
      "       [-1.44604338e-01],\n",
      "       [-2.45532232e-01],\n",
      "       [ 1.54930015e-01],\n",
      "       [-9.82749926e-02],\n",
      "       [ 1.94827936e-02],\n",
      "       [ 2.37295215e-01],\n",
      "       [-2.38423771e-01],\n",
      "       [ 4.17509394e-02],\n",
      "       [ 7.32454355e-02],\n",
      "       [ 2.04860130e-02],\n",
      "       [-6.16381527e-02],\n",
      "       [ 6.46983373e-02],\n",
      "       [ 9.71451779e-02],\n",
      "       [ 5.20334821e-02],\n",
      "       [-1.91692568e-04],\n",
      "       [-2.04143732e-01],\n",
      "       [ 9.13428773e-08],\n",
      "       [-2.74132445e-01],\n",
      "       [-1.03333023e-01],\n",
      "       [ 2.66156570e-01],\n",
      "       [ 2.30563211e-01],\n",
      "       [ 7.65588171e-03],\n",
      "       [-2.86403567e-01],\n",
      "       [-7.42878292e-02],\n",
      "       [-2.20156073e-01],\n",
      "       [-2.05724840e-01]])]\n",
      "the accuracy of this model is \n",
      " 0.8167143097360013\n"
     ]
    }
   ],
   "source": [
    "# your code\n",
    "import pandas as pd\n",
    "import numpy as np\n",
    "from sklearn.neural_network import MLPClassifier\n",
    "import sklearn.metrics as metric\n",
    "\n",
    "\n",
    "data = pd.read_csv('adult.data-3.csv')\n",
    "label = data['label']\n",
    "y_training = pd.get_dummies(label)['>50K']\n",
    "y_true = y_training\n",
    "\n",
    "#processing the categorical input\n",
    "data_categ = data.drop(['age', 'label','hours-per-week','education-num'],axis = 1)\n",
    "data_categ_encode = pd.get_dummies(data_categ)\n",
    "x_training = pd.concat([data_categ_encode,data['age'],data['hours-per-week'],data['education-num']],axis = 1) #combine the numerical features\n",
    "\n",
    "#train the neuron_network\n",
    "mpl = MLPClassifier()\n",
    "mpl.fit(x_training,y_training)\n",
    "y_pred = mpl.predict(x_training)\n",
    "\n",
    "\n",
    "#output the parameters\n",
    "print(y_pred)\n",
    "print([coef.shape for coef in mpl.coefs_])\n",
    "print(mpl.coefs_)\n",
    "\n",
    "#evaluation the accurancy\n",
    "accuracy = metric.accuracy_score(np.array(y_true).flatten(),np.array(y_pred).flatten(),normalize='true')\n",
    "print('the accuracy of this model is \\n',accuracy)\n",
    "\n"
   ]
  },
  {
   "cell_type": "markdown",
   "metadata": {},
   "source": [
    "7. (c.ii) Second, try to find the optimized number of hidden layers and nodes. (Start with default number and then at least go with one number above and one number below the default) \n"
   ]
  },
  {
   "cell_type": "code",
   "execution_count": 17,
   "metadata": {},
   "outputs": [],
   "source": [
    "#function to compute the accuracy \n",
    "def getacry(x,y):\n",
    "    accuracy= metric.accuracy_score(np.array(x).flatten(),np.array(y).flatten(),normalize=True)\n",
    "    return accuracy\n",
    "#function to compute the prediction\n",
    "def getpred(x,y,classifier):\n",
    "    classifier.fit(x,y)\n",
    "    pred = classifier.predict(x)\n",
    "    return pred"
   ]
  },
  {
   "cell_type": "code",
   "execution_count": 18,
   "metadata": {},
   "outputs": [
    {
     "name": "stdout",
     "output_type": "stream",
     "text": [
      "the accuracy for the model with hidden_layers (100,100) is \n",
      " 0.8159856510285298\n",
      "the accuracy for the model with hidden_layers (70,) is \n",
      " 0.8105487360573959\n",
      "the accuracy for the model with hidden_layers (120,) is \n",
      " 0.8107168880668124\n",
      "the accuracy for the model with hidden_layers (120,120) is \n",
      " 0.8143041309343647\n"
     ]
    }
   ],
   "source": [
    "# your code for lower number of hidden layers\n",
    "\n",
    "\n",
    "# your code for higher number of hidden layers\n",
    "mpl_high = MLPClassifier(hidden_layer_sizes=(100,100))\n",
    "\n",
    "y_pred_high = getpred(x_training,y_training,mpl_high)\n",
    "\n",
    "accuracy_high = getacry(y_true,y_pred_high)\n",
    "print('the accuracy for the model with hidden_layers (100,100) is \\n',accuracy_high)\n",
    "\n",
    "# your code for testing number of neurons in each layer   I choose 70,120\n",
    "# one hidden layer 70 neurons\n",
    "mpl_70 = MLPClassifier(hidden_layer_sizes=(70,))\n",
    "\n",
    "y_pred_70 = getpred(x_training,y_training,mpl_70)\n",
    "\n",
    "accuracy_70 = getacry(y_true,y_pred_70)\n",
    "print('the accuracy for the model with hidden_layers (70,) is \\n',accuracy_70)\n",
    "\n",
    "#one hidden layer 120 neurons\n",
    "mpl_120 = MLPClassifier(hidden_layer_sizes=(120,))\n",
    "\n",
    "y_pred_120 = getpred(x_training,y_training,mpl_120)\n",
    "\n",
    "accuracy_120 = getacry(y_true,y_pred_120)\n",
    "print('the accuracy for the model with hidden_layers (120,) is \\n',accuracy_120)\n",
    "\n",
    "#testing for two hidden layers (120,120) neurons\n",
    "mpl_2_120 = MLPClassifier(hidden_layer_sizes=(120,120))\n",
    "\n",
    "y_pred_2_120 = getpred(x_training,y_training,mpl_2_120)\n",
    "\n",
    "accuracy_2_120 = getacry(y_true,y_pred_2_120)\n",
    "print('the accuracy for the model with hidden_layers (120,120) is \\n',accuracy_2_120)\n",
    "\n",
    "\n"
   ]
  },
  {
   "cell_type": "markdown",
   "metadata": {},
   "source": [
    "7. (c.iii) Third, try to train your model with one linear activation function and one non linear activation function, name the functions and explain if there is any difference in your networks and why? (you can use evaluation metrics to show which activation function works better for this data set)\n"
   ]
  },
  {
   "cell_type": "code",
   "execution_count": 19,
   "metadata": {},
   "outputs": [
    {
     "name": "stdout",
     "output_type": "stream",
     "text": [
      "the accuracy for the model with linear actication function is \n",
      " 0.7800011210133961\n",
      "the accuracy for the model with nonlinear actication function is \n",
      " 0.811893952132728\n"
     ]
    }
   ],
   "source": [
    "# your code for linear activation function\n",
    "mpl_lin = MLPClassifier(hidden_layer_sizes=(100,100),activation='identity')\n",
    "mpl_lin.fit(x_training,y_training)\n",
    "y_pred_lin = mpl_lin.predict(x_training)\n",
    "\n",
    "    \n",
    "    \n",
    "# your code for non linear activation function\n",
    "mpl_nlin = MLPClassifier(hidden_layer_sizes=(100,100),activation='logistic')\n",
    "mpl_nlin.fit(x_training,y_training)\n",
    "y_pred_nlin = mpl_nlin.predict(x_training)\n",
    "\n",
    "\n",
    "# yor code for comparing two networks\n",
    "\n",
    "#performance of linear model:\n",
    "accuracy_lin = getacry(y_true,y_pred_lin)\n",
    "print('the accuracy for the model with linear actication function is \\n',accuracy_lin)\n",
    "\n",
    "#performance of nonlinear model\n",
    "accuracy_nlin = getacry(y_true,y_pred_nlin)\n",
    "print('the accuracy for the model with nonlinear actication function is \\n',accuracy_nlin)\n"
   ]
  },
  {
   "cell_type": "markdown",
   "metadata": {},
   "source": [
    "Parameters: "
   ]
  },
  {
   "cell_type": "markdown",
   "metadata": {},
   "source": [
    "Explanation:\n",
    "the nonlinear activation function works better for this dataset"
   ]
  },
  {
   "cell_type": "markdown",
   "metadata": {},
   "source": [
    "7. (c.iv) Which model do you recommend to be used as your classifier and why? (with respect to the number of hidden layer and activation function (linear or nonlinear))"
   ]
  },
  {
   "cell_type": "markdown",
   "metadata": {},
   "source": [
    "Explanation: I would recommend the model with nonlinear activation function, with 2 hidden layers and each layer has 100 neurons. Because according to my comparision , this model gets the highest score."
   ]
  },
  {
   "cell_type": "markdown",
   "metadata": {},
   "source": [
    "## Analysing the quality of the prediction models"
   ]
  },
  {
   "cell_type": "markdown",
   "metadata": {},
   "source": [
    "### Question 8 (Evaluation metrics)"
   ]
  },
  {
   "cell_type": "markdown",
   "metadata": {},
   "source": [
    "8. (a) Calculate the following metrics for the model 7. (c, i) and the logistic regression with all the initial attributes in question 6 (c):"
   ]
  },
  {
   "cell_type": "markdown",
   "metadata": {},
   "source": [
    "- Confusion matrices on the training data"
   ]
  },
  {
   "cell_type": "code",
   "execution_count": 20,
   "metadata": {},
   "outputs": [
    {
     "name": "stdout",
     "output_type": "stream",
     "text": [
      "the confusion_matrix for the neuron_network model is \n",
      " [[8074 1926]\n",
      " [1344 6497]]\n",
      "the confusion_matrix for the regression model is \n",
      " [[8132 1868]\n",
      " [1556 6285]]\n"
     ]
    }
   ],
   "source": [
    "# your code for the confusion matrices on the training data\n",
    "import pandas as pd\n",
    "import numpy as np\n",
    "from sklearn.metrics import confusion_matrix\n",
    "\n",
    "\n",
    "#confusion_matrix for the model 7.(c,i)\n",
    "cm1 = confusion_matrix(y_true,y_pred)\n",
    "print('the confusion_matrix for the neuron_network model is \\n',cm1)\n",
    "\n",
    "#confusion_matrix for the model 6(c)\n",
    "cm2 = confusion_matrix(Y3,y_pred3)\n",
    "print('the confusion_matrix for the regression model is \\n', cm2)\n"
   ]
  },
  {
   "cell_type": "markdown",
   "metadata": {},
   "source": [
    "- Confusion matrices on the test data"
   ]
  },
  {
   "cell_type": "code",
   "execution_count": 21,
   "metadata": {},
   "outputs": [
    {
     "name": "stdout",
     "output_type": "stream",
     "text": [
      "the confusion map for model neuron network is \n",
      " [[12435     0]\n",
      " [ 3846     0]]\n",
      "the confusion map for model regression is \n",
      " [[10080  2355]\n",
      " [  794  3052]]\n"
     ]
    }
   ],
   "source": [
    "# your code for the confusion matrices on the test data\n",
    "data_test = pd.read_csv('adult.test-3.csv')\n",
    "\n",
    "#label preprossing\n",
    "target2 = data_test['label']  \n",
    "Y_true = target2 #\n",
    "label2 = pd.get_dummies(target2)['>50K']\n",
    "y_test_true = label2 #for nn\n",
    "\n",
    "\n",
    "#descriptive fearues preprossing\n",
    "data_test_des = data_test.drop(['label'],axis = 1)\n",
    "x_test = pd.get_dummies(data_test_des)\n",
    "\n",
    "\n",
    "#using previous nn model\n",
    "y_pred_nn = mpl.predict(x_test)\n",
    "\n",
    "cm_nn = confusion_matrix(y_test_true,y_pred_nn)\n",
    "print('the confusion map for model neuron network is \\n',cm_nn)\n",
    "\n",
    "\n",
    "#using previous regression model\n",
    "y_pre_re = classifier3.predict(x_test)\n",
    "\n",
    "cm_reg = confusion_matrix(Y_true,y_pre_re)\n",
    "print('the confusion map for model regression is \\n',cm_reg)\n",
    "\n"
   ]
  },
  {
   "cell_type": "markdown",
   "metadata": {},
   "source": [
    "- Precision, recall and F1-scores on the test data"
   ]
  },
  {
   "cell_type": "code",
   "execution_count": 23,
   "metadata": {},
   "outputs": [
    {
     "name": "stdout",
     "output_type": "stream",
     "text": [
      "precision for nn \n",
      " 0.7637737239727289\n",
      "recall for nn \n",
      " 1.0\n",
      "f1_score for nn \n",
      " 0.8660676974508984\n",
      "precision for regression \n",
      " 0.5644534862215647\n",
      "recall for regression \n",
      " 0.7935517420696828\n",
      "f1_score for regression \n",
      " 0.6596779422889874\n"
     ]
    }
   ],
   "source": [
    "# your code for precision, recall and F1-scores on the test data\n",
    "from sklearn.metrics import precision_score, recall_score, accuracy_score, f1_score\n",
    "\n",
    "#for nn model\n",
    "print('precision for nn \\n',precision_score(y_test_true,y_pred_nn,pos_label=0))\n",
    "print('recall for nn \\n',recall_score(y_test_true,y_pred_nn,pos_label=0))\n",
    "print('f1_score for nn \\n',f1_score(y_test_true,y_pred_nn,pos_label=0))\n",
    "\n",
    "\n",
    "#for regression model\n",
    "print('precision for regression \\n',precision_score(Y_true,y_pre_re,pos_label='>50K'))\n",
    "print('recall for regression \\n',recall_score(Y_true,y_pre_re,pos_label='>50K'))\n",
    "print('f1_score for regression \\n',f1_score(Y_true,y_pre_re,pos_label='>50K'))"
   ]
  },
  {
   "cell_type": "markdown",
   "metadata": {},
   "source": [
    "- Accuracy scores on training and test data"
   ]
  },
  {
   "cell_type": "code",
   "execution_count": 24,
   "metadata": {},
   "outputs": [
    {
     "name": "stdout",
     "output_type": "stream",
     "text": [
      "0.7637737239727289\n",
      "0.8065843621399177\n"
     ]
    }
   ],
   "source": [
    "# your code for accuracy scores on training and test data\n",
    "print(accuracy_score(y_test_true,y_pred_nn)) #for nn\n",
    "print(accuracy_score(Y_true,y_pre_re))  #for regression"
   ]
  },
  {
   "cell_type": "markdown",
   "metadata": {},
   "source": [
    "In order to turn numbers into insights, please comment on your findings. Motivate the answers to the following questions using the metrics and the findings in the questions 1 through 7."
   ]
  },
  {
   "cell_type": "markdown",
   "metadata": {},
   "source": [
    "8. (b) What is, in your opinion, the best model? Motivate your answer with the correct performance metrics."
   ]
  },
  {
   "cell_type": "markdown",
   "metadata": {},
   "source": [
    "Explanation:\n",
    "I think the best model is the neuron network model, since the scores of it are generally higher than that of regression model."
   ]
  },
  {
   "cell_type": "markdown",
   "metadata": {},
   "source": [
    "8. (c) Does any model suffer from underfitting or overfitting? Motivate your answer with the correct performance metrics."
   ]
  },
  {
   "cell_type": "markdown",
   "metadata": {},
   "source": [
    "Explanation:\n",
    "the model regression has a promblem of underfitting, since the precision is just 0.5\n"
   ]
  },
  {
   "cell_type": "markdown",
   "metadata": {},
   "source": [
    "8. (d) In the hypothesis that a separate validation set is not available, how would you proceed in evaluating a model? Refer to the evaluation techniques seen in the lectures."
   ]
  },
  {
   "cell_type": "markdown",
   "metadata": {},
   "source": [
    "Explanation:\n",
    "you can seperathe the original dataset into two parts, ont part for training, and the other part for validation."
   ]
  }
 ],
 "metadata": {
  "kernelspec": {
   "display_name": "Python 3",
   "language": "python",
   "name": "python3"
  },
  "language_info": {
   "codemirror_mode": {
    "name": "ipython",
    "version": 3
   },
   "file_extension": ".py",
   "mimetype": "text/x-python",
   "name": "python",
   "nbconvert_exporter": "python",
   "pygments_lexer": "ipython3",
   "version": "3.7.1"
  }
 },
 "nbformat": 4,
 "nbformat_minor": 2
}
